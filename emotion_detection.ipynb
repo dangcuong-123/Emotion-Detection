{
  "nbformat": 4,
  "nbformat_minor": 0,
  "metadata": {
    "colab": {
      "name": "emotion detection.ipynb",
      "provenance": []
    },
    "kernelspec": {
      "name": "python3",
      "display_name": "Python 3"
    },
    "language_info": {
      "name": "python"
    },
    "accelerator": "GPU"
  },
  "cells": [
    {
      "cell_type": "code",
      "metadata": {
        "id": "8hgo9Yz_Uu5-"
      },
      "source": [
        "import sys, os  \n",
        "import pandas as pd  \n",
        "import numpy as np  \n",
        "\n",
        "from keras.models import Sequential  \n",
        "from keras.layers import Dense, Dropout, Activation, Flatten  \n",
        "from keras.layers import Conv2D, MaxPooling2D, BatchNormalization,AveragePooling2D  \n",
        "from keras.losses import categorical_crossentropy  \n",
        "from keras.optimizers import Adam  \n",
        "from keras.regularizers import l2  \n",
        "from keras.utils import np_utils "
      ],
      "execution_count": null,
      "outputs": []
    },
    {
      "cell_type": "code",
      "metadata": {
        "id": "PdaR_XirVEdK"
      },
      "source": [
        "df=pd.read_csv('/content/drive/MyDrive/Data Kaggle/Emotion Detection/fer2013.csv')  \n",
        "X_train,train_y,X_test,test_y=[],[],[],[]  \n",
        "for index, row in df.iterrows():  \n",
        "    val=row['pixels'].split(\" \")  \n",
        "    try:  \n",
        "        if 'Training' in row['Usage']:  \n",
        "           X_train.append(np.array(val,'float32'))  \n",
        "           train_y.append(row['emotion'])  \n",
        "        elif 'PublicTest' in row['Usage']:  \n",
        "           X_test.append(np.array(val,'float32'))  \n",
        "           test_y.append(row['emotion'])  \n",
        "    except:  \n",
        "        print(f\"error occured at index :{index} and row:{row}\") "
      ],
      "execution_count": null,
      "outputs": []
    },
    {
      "cell_type": "code",
      "metadata": {
        "id": "wURcsWy7VYuo"
      },
      "source": [
        "num_features = 64  \n",
        "num_labels = 7  \n",
        "batch_size = 64  \n",
        "epochs = 20  \n",
        "width, height = 48, 48  \n",
        "\n",
        "X_train = np.array(X_train,'float32')  \n",
        "train_y = np.array(train_y,'float32')  \n",
        "X_test = np.array(X_test,'float32')  \n",
        "test_y = np.array(test_y,'float32')  \n",
        "\n",
        "train_y=np_utils.to_categorical(train_y, num_classes=num_labels)   \n",
        "test_y=np_utils.to_categorical(test_y, num_classes=num_labels)  \n",
        "\n",
        "X_train -= np.mean(X_train, axis=0) #normalize dữ liệu giữa 0 và 1 \n",
        "X_train /= np.std(X_train, axis=0)  \n",
        "\n",
        "X_test -= np.mean(X_test, axis=0)  \n",
        "X_test /= np.std(X_test, axis=0)  \n",
        "\n",
        "X_train = X_train.reshape(X_train.shape[0], 48, 48, 1)  \n",
        "\n",
        "X_test = X_test.reshape(X_test.shape[0], 48, 48, 1)  "
      ],
      "execution_count": null,
      "outputs": []
    },
    {
      "cell_type": "code",
      "metadata": {
        "id": "R5EHdSyQVgJ5"
      },
      "source": [
        "model = Sequential()  \n",
        "\n",
        "model.add(Conv2D(64, kernel_size=(3, 3), activation='relu', input_shape=(X_train.shape[1:])))  \n",
        "model.add(Conv2D(64,kernel_size= (3, 3), activation='relu'))  \n",
        "# model.add(BatchNormalization())  \n",
        "model.add(MaxPooling2D(pool_size=(2,2), strides=(2, 2)))  \n",
        "model.add(Dropout(0.5))  \n",
        "\n",
        "#2nd convolution layer  \n",
        "model.add(Conv2D(64, (3, 3), activation='relu'))  \n",
        "model.add(Conv2D(64, (3, 3), activation='relu'))  \n",
        "# model.add(BatchNormalization())  \n",
        "model.add(MaxPooling2D(pool_size=(2,2), strides=(2, 2)))  \n",
        "model.add(Dropout(0.5))  \n",
        "\n",
        "#3rd convolution layer  \n",
        "model.add(Conv2D(128, (3, 3), activation='relu'))  \n",
        "model.add(Conv2D(128, (3, 3), activation='relu'))  \n",
        "# model.add(BatchNormalization())  \n",
        "model.add(MaxPooling2D(pool_size=(2,2), strides=(2, 2)))  \n",
        "\n",
        "model.add(Flatten())  \n",
        "\n",
        "#fully connected neural networks  \n",
        "model.add(Dense(1024, activation='relu'))  \n",
        "model.add(Dropout(0.2))  \n",
        "model.add(Dense(1024, activation='relu'))  \n",
        "model.add(Dropout(0.2))  \n",
        "\n",
        "model.add(Dense(num_labels, activation='softmax'))  \n",
        "\n",
        "# model.summary()  \n",
        "\n",
        "#Compliling the model  \n",
        "model.compile(loss=categorical_crossentropy,  \n",
        "              optimizer=Adam(),  \n",
        "              metrics=['accuracy']) "
      ],
      "execution_count": null,
      "outputs": []
    },
    {
      "cell_type": "code",
      "metadata": {
        "colab": {
          "base_uri": "https://localhost:8080/"
        },
        "id": "4b8yfJQZVjRs",
        "outputId": "be049c30-e8e2-4350-9e2a-db60d8c55e74"
      },
      "source": [
        "model.summary()"
      ],
      "execution_count": null,
      "outputs": [
        {
          "output_type": "stream",
          "text": [
            "Model: \"sequential_5\"\n",
            "_________________________________________________________________\n",
            "Layer (type)                 Output Shape              Param #   \n",
            "=================================================================\n",
            "conv2d_28 (Conv2D)           (None, 46, 46, 64)        640       \n",
            "_________________________________________________________________\n",
            "conv2d_29 (Conv2D)           (None, 44, 44, 64)        36928     \n",
            "_________________________________________________________________\n",
            "max_pooling2d_15 (MaxPooling (None, 22, 22, 64)        0         \n",
            "_________________________________________________________________\n",
            "dropout_13 (Dropout)         (None, 22, 22, 64)        0         \n",
            "_________________________________________________________________\n",
            "conv2d_30 (Conv2D)           (None, 20, 20, 64)        36928     \n",
            "_________________________________________________________________\n",
            "conv2d_31 (Conv2D)           (None, 18, 18, 64)        36928     \n",
            "_________________________________________________________________\n",
            "max_pooling2d_16 (MaxPooling (None, 9, 9, 64)          0         \n",
            "_________________________________________________________________\n",
            "dropout_14 (Dropout)         (None, 9, 9, 64)          0         \n",
            "_________________________________________________________________\n",
            "conv2d_32 (Conv2D)           (None, 7, 7, 128)         73856     \n",
            "_________________________________________________________________\n",
            "conv2d_33 (Conv2D)           (None, 5, 5, 128)         147584    \n",
            "_________________________________________________________________\n",
            "max_pooling2d_17 (MaxPooling (None, 2, 2, 128)         0         \n",
            "_________________________________________________________________\n",
            "flatten_5 (Flatten)          (None, 512)               0         \n",
            "_________________________________________________________________\n",
            "dense_14 (Dense)             (None, 1024)              525312    \n",
            "_________________________________________________________________\n",
            "dropout_15 (Dropout)         (None, 1024)              0         \n",
            "_________________________________________________________________\n",
            "dense_15 (Dense)             (None, 1024)              1049600   \n",
            "_________________________________________________________________\n",
            "dropout_16 (Dropout)         (None, 1024)              0         \n",
            "_________________________________________________________________\n",
            "dense_16 (Dense)             (None, 7)                 7175      \n",
            "=================================================================\n",
            "Total params: 1,914,951\n",
            "Trainable params: 1,914,951\n",
            "Non-trainable params: 0\n",
            "_________________________________________________________________\n"
          ],
          "name": "stdout"
        }
      ]
    },
    {
      "cell_type": "code",
      "metadata": {
        "colab": {
          "base_uri": "https://localhost:8080/"
        },
        "id": "bIuzqt1oVqGq",
        "outputId": "4ca431a7-84e2-40c1-8c82-6277d8681a69"
      },
      "source": [
        "#Training the model  \n",
        "model.fit(X_train, train_y,  \n",
        "          batch_size=batch_size,  \n",
        "          epochs=30,  \n",
        "          verbose=1,  \n",
        "          validation_data=(X_test, test_y),  \n",
        "          shuffle=True)  "
      ],
      "execution_count": null,
      "outputs": [
        {
          "output_type": "stream",
          "text": [
            "Epoch 1/30\n",
            "449/449 [==============================] - 9s 19ms/step - loss: 1.7892 - accuracy: 0.2611 - val_loss: 1.5703 - val_accuracy: 0.3722\n",
            "Epoch 2/30\n",
            "449/449 [==============================] - 8s 18ms/step - loss: 1.5496 - accuracy: 0.3862 - val_loss: 1.4162 - val_accuracy: 0.4402\n",
            "Epoch 3/30\n",
            "449/449 [==============================] - 8s 19ms/step - loss: 1.4101 - accuracy: 0.4520 - val_loss: 1.3135 - val_accuracy: 0.4870\n",
            "Epoch 4/30\n",
            "449/449 [==============================] - 9s 19ms/step - loss: 1.3431 - accuracy: 0.4819 - val_loss: 1.2779 - val_accuracy: 0.5116\n",
            "Epoch 5/30\n",
            "449/449 [==============================] - 8s 19ms/step - loss: 1.2937 - accuracy: 0.5056 - val_loss: 1.2604 - val_accuracy: 0.5166\n",
            "Epoch 6/30\n",
            "449/449 [==============================] - 9s 19ms/step - loss: 1.2487 - accuracy: 0.5232 - val_loss: 1.2342 - val_accuracy: 0.5241\n",
            "Epoch 7/30\n",
            "449/449 [==============================] - 9s 19ms/step - loss: 1.2202 - accuracy: 0.5295 - val_loss: 1.2072 - val_accuracy: 0.5344\n",
            "Epoch 8/30\n",
            "449/449 [==============================] - 9s 19ms/step - loss: 1.1854 - accuracy: 0.5432 - val_loss: 1.1921 - val_accuracy: 0.5517\n",
            "Epoch 9/30\n",
            "449/449 [==============================] - 8s 19ms/step - loss: 1.1624 - accuracy: 0.5539 - val_loss: 1.1943 - val_accuracy: 0.5469\n",
            "Epoch 10/30\n",
            "449/449 [==============================] - 8s 19ms/step - loss: 1.1392 - accuracy: 0.5644 - val_loss: 1.1830 - val_accuracy: 0.5542\n",
            "Epoch 11/30\n",
            "449/449 [==============================] - 8s 19ms/step - loss: 1.1269 - accuracy: 0.5675 - val_loss: 1.1581 - val_accuracy: 0.5492\n",
            "Epoch 12/30\n",
            "449/449 [==============================] - 8s 19ms/step - loss: 1.0964 - accuracy: 0.5785 - val_loss: 1.1689 - val_accuracy: 0.5553\n",
            "Epoch 13/30\n",
            "449/449 [==============================] - 8s 19ms/step - loss: 1.0658 - accuracy: 0.5914 - val_loss: 1.1542 - val_accuracy: 0.5631\n",
            "Epoch 14/30\n",
            "449/449 [==============================] - 8s 19ms/step - loss: 1.0632 - accuracy: 0.5897 - val_loss: 1.1497 - val_accuracy: 0.5587\n",
            "Epoch 15/30\n",
            "449/449 [==============================] - 8s 19ms/step - loss: 1.0484 - accuracy: 0.6001 - val_loss: 1.1563 - val_accuracy: 0.5662\n",
            "Epoch 16/30\n",
            "449/449 [==============================] - 8s 19ms/step - loss: 1.0258 - accuracy: 0.6121 - val_loss: 1.1323 - val_accuracy: 0.5807\n",
            "Epoch 17/30\n",
            "449/449 [==============================] - 8s 19ms/step - loss: 1.0140 - accuracy: 0.6100 - val_loss: 1.1660 - val_accuracy: 0.5695\n",
            "Epoch 18/30\n",
            "449/449 [==============================] - 8s 19ms/step - loss: 0.9869 - accuracy: 0.6222 - val_loss: 1.1722 - val_accuracy: 0.5595\n",
            "Epoch 19/30\n",
            "449/449 [==============================] - 8s 19ms/step - loss: 0.9684 - accuracy: 0.6297 - val_loss: 1.1560 - val_accuracy: 0.5692\n",
            "Epoch 20/30\n",
            "449/449 [==============================] - 8s 19ms/step - loss: 0.9526 - accuracy: 0.6349 - val_loss: 1.1655 - val_accuracy: 0.5656\n",
            "Epoch 21/30\n",
            "449/449 [==============================] - 8s 19ms/step - loss: 0.9363 - accuracy: 0.6440 - val_loss: 1.1405 - val_accuracy: 0.5795\n",
            "Epoch 22/30\n",
            "449/449 [==============================] - 8s 19ms/step - loss: 0.9270 - accuracy: 0.6427 - val_loss: 1.1708 - val_accuracy: 0.5729\n",
            "Epoch 23/30\n",
            "449/449 [==============================] - 8s 19ms/step - loss: 0.9081 - accuracy: 0.6537 - val_loss: 1.1762 - val_accuracy: 0.5726\n",
            "Epoch 24/30\n",
            "449/449 [==============================] - 8s 19ms/step - loss: 0.8962 - accuracy: 0.6565 - val_loss: 1.1742 - val_accuracy: 0.5726\n",
            "Epoch 25/30\n",
            "449/449 [==============================] - 8s 19ms/step - loss: 0.8768 - accuracy: 0.6665 - val_loss: 1.1667 - val_accuracy: 0.5815\n",
            "Epoch 26/30\n",
            "449/449 [==============================] - 8s 19ms/step - loss: 0.8640 - accuracy: 0.6719 - val_loss: 1.2085 - val_accuracy: 0.5812\n",
            "Epoch 27/30\n",
            "449/449 [==============================] - 8s 19ms/step - loss: 0.8487 - accuracy: 0.6776 - val_loss: 1.2014 - val_accuracy: 0.5695\n",
            "Epoch 28/30\n",
            "449/449 [==============================] - 8s 19ms/step - loss: 0.8430 - accuracy: 0.6772 - val_loss: 1.1949 - val_accuracy: 0.5720\n",
            "Epoch 29/30\n",
            "449/449 [==============================] - 8s 19ms/step - loss: 0.8277 - accuracy: 0.6852 - val_loss: 1.2103 - val_accuracy: 0.5773\n",
            "Epoch 30/30\n",
            "449/449 [==============================] - 8s 19ms/step - loss: 0.7988 - accuracy: 0.6964 - val_loss: 1.2079 - val_accuracy: 0.5756\n"
          ],
          "name": "stdout"
        },
        {
          "output_type": "execute_result",
          "data": {
            "text/plain": [
              "<tensorflow.python.keras.callbacks.History at 0x7fc68411f250>"
            ]
          },
          "metadata": {
            "tags": []
          },
          "execution_count": 24
        }
      ]
    },
    {
      "cell_type": "code",
      "metadata": {
        "id": "ao8iOTGdY9Vf"
      },
      "source": [
        "#Saving the  model \n",
        "fer_json = model.to_json()  \n",
        "with open(\"fer.json\", \"w\") as json_file:  \n",
        "    json_file.write(fer_json)  \n",
        "model.save_weights(\"fer.h5\")  "
      ],
      "execution_count": null,
      "outputs": []
    }
  ]
}