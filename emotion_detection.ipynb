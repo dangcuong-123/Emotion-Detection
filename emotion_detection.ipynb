{
  "nbformat": 4,
  "nbformat_minor": 0,
  "metadata": {
    "colab": {
      "name": "emotion detection.ipynb",
      "provenance": [],
      "collapsed_sections": []
    },
    "kernelspec": {
      "name": "python3",
      "display_name": "Python 3"
    },
    "language_info": {
      "name": "python"
    },
    "accelerator": "GPU"
  },
  "cells": [
    {
      "cell_type": "code",
      "metadata": {
        "id": "8hgo9Yz_Uu5-"
      },
      "source": [
        "import sys, os  \n",
        "import pandas as pd  \n",
        "import numpy as np  \n",
        "import matplotlib.pyplot as plt\n",
        "\n",
        "from keras.models import Sequential  \n",
        "from keras.layers import Dense, Dropout, Activation, Flatten  \n",
        "from keras.layers import Conv2D, MaxPooling2D, BatchNormalization,AveragePooling2D  \n",
        "from keras.losses import categorical_crossentropy  \n",
        "from keras.optimizers import Adam  \n",
        "from keras.regularizers import l2  \n",
        "from keras.utils import np_utils "
      ],
      "execution_count": 42,
      "outputs": []
    },
    {
      "cell_type": "code",
      "metadata": {
        "id": "PdaR_XirVEdK"
      },
      "source": [
        "df=pd.read_csv('/content/drive/MyDrive/Data Kaggle/Emotion Detection/fer2013.csv')  \n",
        "X_train,train_y,X_test,test_y=[],[],[],[]  \n",
        "for index, row in df.iterrows():  \n",
        "    val=row['pixels'].split(\" \")  \n",
        "    try:  \n",
        "        if 'Training' in row['Usage']:  \n",
        "           X_train.append(np.array(val,'float32'))  \n",
        "           train_y.append(row['emotion'])  \n",
        "        elif 'PublicTest' in row['Usage']:  \n",
        "           X_test.append(np.array(val,'float32'))  \n",
        "           test_y.append(row['emotion'])  \n",
        "    except:  \n",
        "        print(f\"error occured at index :{index} and row:{row}\") "
      ],
      "execution_count": 21,
      "outputs": []
    },
    {
      "cell_type": "code",
      "metadata": {
        "id": "wURcsWy7VYuo"
      },
      "source": [
        "num_features = 64  \n",
        "num_labels = 7  \n",
        "batch_size = 64  \n",
        "epochs = 20  \n",
        "width, height = 48, 48  \n",
        "\n",
        "X_train = np.array(X_train,'float32')  \n",
        "train_y = np.array(train_y,'float32')  \n",
        "X_test = np.array(X_test,'float32')  \n",
        "test_y = np.array(test_y,'float32')  \n",
        "\n",
        "train_y=np_utils.to_categorical(train_y, num_classes=num_labels)   \n",
        "test_y=np_utils.to_categorical(test_y, num_classes=num_labels)  \n",
        "\n",
        "X_train -= np.mean(X_train, axis=0) #normalize dữ liệu giữa 0 và 1 \n",
        "X_train /= np.std(X_train, axis=0)  \n",
        "\n",
        "X_test -= np.mean(X_test, axis=0)  \n",
        "X_test /= np.std(X_test, axis=0)  \n",
        "\n",
        "X_train = X_train.reshape(X_train.shape[0], 48, 48, 1)  \n",
        "\n",
        "X_test = X_test.reshape(X_test.shape[0], 48, 48, 1)  "
      ],
      "execution_count": 23,
      "outputs": []
    },
    {
      "cell_type": "code",
      "metadata": {
        "colab": {
          "base_uri": "https://localhost:8080/"
        },
        "id": "uDSUmBSrc-1X",
        "outputId": "a95374b6-d0e9-4adc-eb20-0ff66aa7cc1e"
      },
      "source": [
        "print(X_train.shape)\n",
        "print(train_y.shape)\n",
        "print(X_test.shape)\n",
        "print(test_y.shape)"
      ],
      "execution_count": 24,
      "outputs": [
        {
          "output_type": "stream",
          "text": [
            "(28709, 48, 48, 1)\n",
            "(28709, 7)\n",
            "(3589, 48, 48, 1)\n",
            "(3589, 7)\n"
          ],
          "name": "stdout"
        }
      ]
    },
    {
      "cell_type": "code",
      "metadata": {
        "id": "pU6FQoXEdLCx"
      },
      "source": [
        "from keras.preprocessing.image import ImageDataGenerator\n",
        "\n",
        "datagen = ImageDataGenerator(\n",
        "        featurewise_center=False,  \n",
        "        samplewise_center=False,  \n",
        "        featurewise_std_normalization=False,  \n",
        "        samplewise_std_normalization=False,  \n",
        "        zca_whitening=False,  \n",
        "        rotation_range=10,  \n",
        "        zoom_range = 0.0,  \n",
        "        width_shift_range=0.1,  \n",
        "        height_shift_range=0.1,  \n",
        "        horizontal_flip=False, \n",
        "        vertical_flip=False)  \n",
        "\n",
        "datagen.fit(X_train)"
      ],
      "execution_count": 25,
      "outputs": []
    },
    {
      "cell_type": "code",
      "metadata": {
        "colab": {
          "base_uri": "https://localhost:8080/"
        },
        "id": "PUKCR1vHgkGC",
        "outputId": "545ac335-e9d8-4595-c070-0cea3e549632"
      },
      "source": [
        "X_train.shape[1:]"
      ],
      "execution_count": 29,
      "outputs": [
        {
          "output_type": "execute_result",
          "data": {
            "text/plain": [
              "(48, 48, 1)"
            ]
          },
          "metadata": {
            "tags": []
          },
          "execution_count": 29
        }
      ]
    },
    {
      "cell_type": "code",
      "metadata": {
        "id": "R5EHdSyQVgJ5"
      },
      "source": [
        "model = Sequential()  \n",
        "\n",
        "model.add(Conv2D(64, kernel_size=(3, 3), activation='relu', input_shape=(X_train.shape[1:])))  \n",
        "model.add(Conv2D(64,kernel_size= (3, 3), activation='relu'))  \n",
        "# model.add(BatchNormalization())  \n",
        "model.add(MaxPooling2D(pool_size=(2,2), strides=(2, 2)))  \n",
        "model.add(Dropout(0.2))  \n",
        "\n",
        "#2nd convolution layer  \n",
        "model.add(Conv2D(128, (3, 3), activation='relu'))  \n",
        "model.add(Conv2D(128, (3, 3), activation='relu'))  \n",
        "# model.add(BatchNormalization())  \n",
        "model.add(MaxPooling2D(pool_size=(2,2), strides=(2, 2)))  \n",
        "model.add(Dropout(0.2))  \n",
        "\n",
        "#3rd convolution layer  \n",
        "model.add(Conv2D(256, (3, 3), activation='relu'))  \n",
        "model.add(Conv2D(256, (3, 3), activation='relu'))  \n",
        "# model.add(BatchNormalization())  \n",
        "model.add(MaxPooling2D(pool_size=(2,2), strides=(2, 2)))  \n",
        "\n",
        "model.add(Flatten())  \n",
        "\n",
        "#fully connected neural networks  \n",
        "model.add(Dense(1024, activation='relu'))  \n",
        "model.add(Dropout(0.2))  \n",
        "model.add(Dense(1024, activation='relu'))  \n",
        "model.add(Dropout(0.2))  \n",
        "\n",
        "model.add(Dense(num_labels, activation='softmax'))  \n",
        "\n",
        "# model.summary()  \n",
        "\n",
        "#Compliling the model  \n",
        "model.compile(loss=categorical_crossentropy,  \n",
        "              optimizer=Adam(),  \n",
        "              metrics=['accuracy']) "
      ],
      "execution_count": 36,
      "outputs": []
    },
    {
      "cell_type": "code",
      "metadata": {
        "colab": {
          "base_uri": "https://localhost:8080/"
        },
        "id": "4b8yfJQZVjRs",
        "outputId": "9d096c45-7884-4296-f680-7fdb0442a085"
      },
      "source": [
        "model.summary()"
      ],
      "execution_count": 37,
      "outputs": [
        {
          "output_type": "stream",
          "text": [
            "Model: \"sequential_5\"\n",
            "_________________________________________________________________\n",
            "Layer (type)                 Output Shape              Param #   \n",
            "=================================================================\n",
            "conv2d_30 (Conv2D)           (None, 46, 46, 64)        640       \n",
            "_________________________________________________________________\n",
            "conv2d_31 (Conv2D)           (None, 44, 44, 64)        36928     \n",
            "_________________________________________________________________\n",
            "max_pooling2d_15 (MaxPooling (None, 22, 22, 64)        0         \n",
            "_________________________________________________________________\n",
            "dropout_20 (Dropout)         (None, 22, 22, 64)        0         \n",
            "_________________________________________________________________\n",
            "conv2d_32 (Conv2D)           (None, 20, 20, 128)       73856     \n",
            "_________________________________________________________________\n",
            "conv2d_33 (Conv2D)           (None, 18, 18, 128)       147584    \n",
            "_________________________________________________________________\n",
            "max_pooling2d_16 (MaxPooling (None, 9, 9, 128)         0         \n",
            "_________________________________________________________________\n",
            "dropout_21 (Dropout)         (None, 9, 9, 128)         0         \n",
            "_________________________________________________________________\n",
            "conv2d_34 (Conv2D)           (None, 7, 7, 256)         295168    \n",
            "_________________________________________________________________\n",
            "conv2d_35 (Conv2D)           (None, 5, 5, 256)         590080    \n",
            "_________________________________________________________________\n",
            "max_pooling2d_17 (MaxPooling (None, 2, 2, 256)         0         \n",
            "_________________________________________________________________\n",
            "flatten_5 (Flatten)          (None, 1024)              0         \n",
            "_________________________________________________________________\n",
            "dense_15 (Dense)             (None, 1024)              1049600   \n",
            "_________________________________________________________________\n",
            "dropout_22 (Dropout)         (None, 1024)              0         \n",
            "_________________________________________________________________\n",
            "dense_16 (Dense)             (None, 1024)              1049600   \n",
            "_________________________________________________________________\n",
            "dropout_23 (Dropout)         (None, 1024)              0         \n",
            "_________________________________________________________________\n",
            "dense_17 (Dense)             (None, 7)                 7175      \n",
            "=================================================================\n",
            "Total params: 3,250,631\n",
            "Trainable params: 3,250,631\n",
            "Non-trainable params: 0\n",
            "_________________________________________________________________\n"
          ],
          "name": "stdout"
        }
      ]
    },
    {
      "cell_type": "code",
      "metadata": {
        "colab": {
          "base_uri": "https://localhost:8080/"
        },
        "id": "bIuzqt1oVqGq",
        "outputId": "5ad72157-5cf7-4334-c3e9-2945308d5678"
      },
      "source": [
        "#Training the model  \n",
        "history = model.fit_generator(datagen.flow(X_train, train_y, batch_size=batch_size),  \n",
        "          epochs=30,  \n",
        "          verbose=1,  \n",
        "          validation_data=(X_test, test_y),  \n",
        "          shuffle=True)  "
      ],
      "execution_count": 40,
      "outputs": [
        {
          "output_type": "stream",
          "text": [
            "/usr/local/lib/python3.7/dist-packages/tensorflow/python/keras/engine/training.py:1844: UserWarning: `Model.fit_generator` is deprecated and will be removed in a future version. Please use `Model.fit`, which supports generators.\n",
            "  warnings.warn('`Model.fit_generator` is deprecated and '\n"
          ],
          "name": "stderr"
        },
        {
          "output_type": "stream",
          "text": [
            "Epoch 1/30\n",
            "449/449 [==============================] - 24s 53ms/step - loss: 0.9569 - accuracy: 0.6414 - val_loss: 1.0755 - val_accuracy: 0.6002\n",
            "Epoch 2/30\n",
            "449/449 [==============================] - 23s 52ms/step - loss: 0.9484 - accuracy: 0.6429 - val_loss: 1.0738 - val_accuracy: 0.6091\n",
            "Epoch 3/30\n",
            "449/449 [==============================] - 23s 52ms/step - loss: 0.9465 - accuracy: 0.6448 - val_loss: 1.0567 - val_accuracy: 0.6160\n",
            "Epoch 4/30\n",
            "449/449 [==============================] - 24s 52ms/step - loss: 0.9416 - accuracy: 0.6463 - val_loss: 1.0494 - val_accuracy: 0.6194\n",
            "Epoch 5/30\n",
            "449/449 [==============================] - 23s 52ms/step - loss: 0.9340 - accuracy: 0.6532 - val_loss: 1.0595 - val_accuracy: 0.6135\n",
            "Epoch 6/30\n",
            "449/449 [==============================] - 23s 52ms/step - loss: 0.9226 - accuracy: 0.6546 - val_loss: 1.0916 - val_accuracy: 0.6030\n",
            "Epoch 7/30\n",
            "449/449 [==============================] - 24s 52ms/step - loss: 0.9218 - accuracy: 0.6545 - val_loss: 1.1037 - val_accuracy: 0.6121\n",
            "Epoch 8/30\n",
            "449/449 [==============================] - 24s 53ms/step - loss: 0.9239 - accuracy: 0.6561 - val_loss: 1.0709 - val_accuracy: 0.6074\n",
            "Epoch 9/30\n",
            "449/449 [==============================] - 24s 53ms/step - loss: 0.9197 - accuracy: 0.6533 - val_loss: 1.1125 - val_accuracy: 0.6043\n",
            "Epoch 10/30\n",
            "449/449 [==============================] - 24s 53ms/step - loss: 0.9122 - accuracy: 0.6583 - val_loss: 1.0567 - val_accuracy: 0.6066\n",
            "Epoch 11/30\n",
            "449/449 [==============================] - 24s 53ms/step - loss: 0.9013 - accuracy: 0.6636 - val_loss: 1.0778 - val_accuracy: 0.6077\n",
            "Epoch 12/30\n",
            "449/449 [==============================] - 23s 52ms/step - loss: 0.9074 - accuracy: 0.6586 - val_loss: 1.0704 - val_accuracy: 0.6088\n",
            "Epoch 13/30\n",
            "449/449 [==============================] - 23s 52ms/step - loss: 0.8963 - accuracy: 0.6652 - val_loss: 1.0640 - val_accuracy: 0.6074\n",
            "Epoch 14/30\n",
            "449/449 [==============================] - 23s 52ms/step - loss: 0.8969 - accuracy: 0.6643 - val_loss: 1.1243 - val_accuracy: 0.5985\n",
            "Epoch 15/30\n",
            "449/449 [==============================] - 23s 52ms/step - loss: 0.8919 - accuracy: 0.6693 - val_loss: 1.1188 - val_accuracy: 0.6032\n",
            "Epoch 16/30\n",
            "449/449 [==============================] - 24s 53ms/step - loss: 0.8964 - accuracy: 0.6661 - val_loss: 1.0794 - val_accuracy: 0.6066\n",
            "Epoch 17/30\n",
            "449/449 [==============================] - 23s 52ms/step - loss: 0.8885 - accuracy: 0.6701 - val_loss: 1.0725 - val_accuracy: 0.6155\n",
            "Epoch 18/30\n",
            "449/449 [==============================] - 23s 52ms/step - loss: 0.8849 - accuracy: 0.6714 - val_loss: 1.1009 - val_accuracy: 0.6121\n",
            "Epoch 19/30\n",
            "449/449 [==============================] - 23s 52ms/step - loss: 0.8730 - accuracy: 0.6751 - val_loss: 1.0720 - val_accuracy: 0.6205\n",
            "Epoch 20/30\n",
            "449/449 [==============================] - 24s 52ms/step - loss: 0.8805 - accuracy: 0.6719 - val_loss: 1.0977 - val_accuracy: 0.6219\n",
            "Epoch 21/30\n",
            "449/449 [==============================] - 23s 52ms/step - loss: 0.8659 - accuracy: 0.6791 - val_loss: 1.0808 - val_accuracy: 0.6163\n",
            "Epoch 22/30\n",
            "449/449 [==============================] - 23s 52ms/step - loss: 0.8604 - accuracy: 0.6795 - val_loss: 1.0881 - val_accuracy: 0.6144\n",
            "Epoch 23/30\n",
            "449/449 [==============================] - 23s 52ms/step - loss: 0.8589 - accuracy: 0.6810 - val_loss: 1.0799 - val_accuracy: 0.6186\n",
            "Epoch 24/30\n",
            "449/449 [==============================] - 23s 52ms/step - loss: 0.8565 - accuracy: 0.6801 - val_loss: 1.1214 - val_accuracy: 0.6130\n",
            "Epoch 25/30\n",
            "449/449 [==============================] - 23s 52ms/step - loss: 0.8532 - accuracy: 0.6807 - val_loss: 1.0786 - val_accuracy: 0.6239\n",
            "Epoch 26/30\n",
            "449/449 [==============================] - 24s 53ms/step - loss: 0.8506 - accuracy: 0.6837 - val_loss: 1.1121 - val_accuracy: 0.6091\n",
            "Epoch 27/30\n",
            "449/449 [==============================] - 24s 52ms/step - loss: 0.8516 - accuracy: 0.6850 - val_loss: 1.1118 - val_accuracy: 0.6116\n",
            "Epoch 28/30\n",
            "449/449 [==============================] - 24s 53ms/step - loss: 0.8410 - accuracy: 0.6866 - val_loss: 1.1053 - val_accuracy: 0.6174\n",
            "Epoch 29/30\n",
            "449/449 [==============================] - 24s 53ms/step - loss: 0.8463 - accuracy: 0.6850 - val_loss: 1.1348 - val_accuracy: 0.6141\n",
            "Epoch 30/30\n",
            "449/449 [==============================] - 24s 53ms/step - loss: 0.8390 - accuracy: 0.6871 - val_loss: 1.0742 - val_accuracy: 0.6197\n"
          ],
          "name": "stdout"
        }
      ]
    },
    {
      "cell_type": "code",
      "metadata": {
        "colab": {
          "base_uri": "https://localhost:8080/",
          "height": 573
        },
        "id": "NQq7ahMUn4j1",
        "outputId": "10caec23-7d27-45e5-fea7-ec09e2be1381"
      },
      "source": [
        "plt.plot(history.history['accuracy'])\n",
        "plt.plot(history.history['val_accuracy'])\n",
        "plt.title('model accuracy')\n",
        "plt.ylabel('accuracy')\n",
        "plt.xlabel('epoch')\n",
        "plt.legend(['train', 'test'], loc='upper left')\n",
        "plt.show()\n",
        "# summarize history for loss\n",
        "plt.plot(history.history['loss'])\n",
        "plt.plot(history.history['val_loss'])\n",
        "plt.title('model loss')\n",
        "plt.ylabel('loss')\n",
        "plt.xlabel('epoch')\n",
        "plt.legend(['train', 'test'], loc='upper left')\n",
        "plt.show()"
      ],
      "execution_count": 44,
      "outputs": [
        {
          "output_type": "display_data",
          "data": {
            "image/png": "[encoded data removed]",
            "text/plain": [
              "<Figure size 432x288 with 1 Axes>"
            ]
          },
          "metadata": {
            "tags": [],
            "needs_background": "light"
          }
        },
        {
          "output_type": "display_data",
          "data": {
            "image/png": "[encoded data removed]",
            "text/plain": [
              "<Figure size 432x288 with 1 Axes>"
            ]
          },
          "metadata": {
            "tags": [],
            "needs_background": "light"
          }
        }
      ]
    },
    {
      "cell_type": "code",
      "metadata": {
        "id": "ao8iOTGdY9Vf"
      },
      "source": [
        "#Saving the  model \n",
        "fer_json = model.to_json()  \n",
        "with open(\"fer.json\", \"w\") as json_file:  \n",
        "    json_file.write(fer_json)  \n",
        "model.save_weights(\"fer.h5\")  "
      ],
      "execution_count": 39,
      "outputs": []
    }
  ]
}